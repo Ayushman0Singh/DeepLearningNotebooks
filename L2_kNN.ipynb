{
  "cells": [
    {
      "cell_type": "markdown",
      "metadata": {
        "id": "view-in-github",
        "colab_type": "text"
      },
      "source": [
        "<a href=\"https://colab.research.google.com/github/Ayushman0Singh/DeepLearning-Notebooks/blob/main/L2_kNN.ipynb\" target=\"_parent\"><img src=\"https://colab.research.google.com/assets/colab-badge.svg\" alt=\"Open In Colab\"/></a>"
      ]
    },
    {
      "cell_type": "markdown",
      "id": "fe548d4c-0ae6-4490-85e9-9a08b324e523",
      "metadata": {
        "id": "fe548d4c-0ae6-4490-85e9-9a08b324e523"
      },
      "source": [
        "# K Nearest Neighbors"
      ]
    },
    {
      "cell_type": "code",
      "source": [
        "pip install utils"
      ],
      "metadata": {
        "colab": {
          "base_uri": "https://localhost:8080/"
        },
        "id": "IfQL1iKc8hSX",
        "outputId": "e442e2b9-e101-4dee-f92c-f74b240b27a4"
      },
      "id": "IfQL1iKc8hSX",
      "execution_count": 9,
      "outputs": [
        {
          "output_type": "stream",
          "name": "stdout",
          "text": [
            "Collecting utils\n",
            "  Downloading utils-1.0.1-py2.py3-none-any.whl (21 kB)\n",
            "Installing collected packages: utils\n",
            "Successfully installed utils-1.0.1\n"
          ]
        }
      ]
    },
    {
      "cell_type": "code",
      "execution_count": 6,
      "id": "1dffa51f",
      "metadata": {
        "height": 98,
        "id": "1dffa51f"
      },
      "outputs": [],
      "source": [
        "import numpy as np\n",
        "import matplotlib.pyplot as plt\n",
        "from sklearn.neighbors import NearestNeighbors\n",
        "import time\n",
        "np.random.seed(42)"
      ]
    },
    {
      "cell_type": "code",
      "execution_count": null,
      "id": "c6507163-f256-4969-b39a-42e4fe87e16e",
      "metadata": {
        "height": 47,
        "id": "c6507163-f256-4969-b39a-42e4fe87e16e"
      },
      "outputs": [],
      "source": [
        "# Generate 20 data points with 2 dimensions\n",
        "X = np.random.rand(20,2)"
      ]
    },
    {
      "cell_type": "code",
      "execution_count": null,
      "id": "0d57be60-f38c-40ec-9a79-6abe351ff8e1",
      "metadata": {
        "height": 166,
        "id": "0d57be60-f38c-40ec-9a79-6abe351ff8e1",
        "outputId": "149792dc-3b32-40ed-f56f-c8452ac9489a"
      },
      "outputs": [
        {
          "data": {
            "image/png": "[encoded data removed]",
            "text/plain": [
              "<Figure size 640x480 with 1 Axes>"
            ]
          },
          "metadata": {},
          "output_type": "display_data"
        }
      ],
      "source": [
        "# Display Embeddings\n",
        "n = range(len(X))\n",
        "\n",
        "fig, ax = plt.subplots()\n",
        "ax.scatter(X[:,0], X[:,1], label='Embeddings')\n",
        "ax.legend()\n",
        "\n",
        "for i, txt in enumerate(n):\n",
        "    ax.annotate(txt, (X[i,0], X[i,1]))"
      ]
    },
    {
      "cell_type": "code",
      "execution_count": null,
      "id": "f7607bd1-41e2-4f8b-9c25-9deba45c1bc4",
      "metadata": {
        "height": 96,
        "id": "f7607bd1-41e2-4f8b-9c25-9deba45c1bc4"
      },
      "outputs": [],
      "source": [
        "k = 4\n",
        "\n",
        "neigh = NearestNeighbors(n_neighbors=k, algorithm='brute', metric='euclidean')\n",
        "neigh.fit(X)"
      ]
    },
    {
      "cell_type": "code",
      "execution_count": null,
      "id": "0dfb6e89-cfb6-4ef3-a5b9-b8ba65cfe7b1",
      "metadata": {
        "height": 183,
        "id": "0dfb6e89-cfb6-4ef3-a5b9-b8ba65cfe7b1"
      },
      "outputs": [],
      "source": [
        "# Display Query with data\n",
        "n = range(len(X))\n",
        "\n",
        "fig, ax = plt.subplots()\n",
        "ax.scatter(X[:,0], X[:,1])\n",
        "ax.scatter(0.45,0.2, c='red',label='Query')\n",
        "ax.legend()\n",
        "\n",
        "for i, txt in enumerate(n):\n",
        "    ax.annotate(txt, (X[i,0], X[i,1]))"
      ]
    },
    {
      "cell_type": "code",
      "execution_count": null,
      "id": "cd20c13b-c830-47fc-9bde-824b81607ebc",
      "metadata": {
        "height": 62,
        "id": "cd20c13b-c830-47fc-9bde-824b81607ebc"
      },
      "outputs": [],
      "source": [
        "neighbours = neigh.kneighbors([[0.45,0.2]], k, return_distance=True)\n",
        "print(neighbours)"
      ]
    },
    {
      "cell_type": "code",
      "execution_count": null,
      "id": "31e7e76f-f26e-46a5-9778-8e1aa46e18b5",
      "metadata": {
        "height": 130,
        "id": "31e7e76f-f26e-46a5-9778-8e1aa46e18b5"
      },
      "outputs": [],
      "source": [
        "t0 = time.time()\n",
        "neighbours = neigh.kneighbors([[0.45,0.2]], k, return_distance=True)\n",
        "t1 = time.time()\n",
        "\n",
        "query_time = t1-t0\n",
        "print(f\"Runtime: {query_time: .4f} seconds\")"
      ]
    },
    {
      "cell_type": "code",
      "execution_count": null,
      "id": "b4827c91-797a-469d-9679-1dbba2e864d1",
      "metadata": {
        "height": 334,
        "id": "b4827c91-797a-469d-9679-1dbba2e864d1"
      },
      "outputs": [],
      "source": [
        "def speed_test(count):\n",
        "    # generate random objects\n",
        "    data = np.random.rand(count,2)\n",
        "\n",
        "    # prepare brute force index\n",
        "    k=4\n",
        "    neigh = NearestNeighbors(n_neighbors=k, algorithm='brute', metric='euclidean')\n",
        "    neigh.fit(data)\n",
        "\n",
        "    # measure time for a brute force query\n",
        "    t0 = time.time()\n",
        "    neighbours = neigh.kneighbors([[0.45,0.2]], k, return_distance=True)\n",
        "    t1 = time.time()\n",
        "\n",
        "    total_time = t1-t0\n",
        "    print (f\"Runtime: {total_time: .4f}\")\n",
        "\n",
        "    return total_time"
      ]
    },
    {
      "cell_type": "code",
      "execution_count": null,
      "id": "cae5ed6a-9fb8-4fc3-85c6-b9eff573ad5a",
      "metadata": {
        "height": 30,
        "id": "cae5ed6a-9fb8-4fc3-85c6-b9eff573ad5a"
      },
      "outputs": [],
      "source": [
        "time20k = speed_test(20_000)"
      ]
    },
    {
      "cell_type": "code",
      "execution_count": null,
      "id": "1f114314-b875-40b0-be81-bae6b1762765",
      "metadata": {
        "height": 98,
        "id": "1f114314-b875-40b0-be81-bae6b1762765"
      },
      "outputs": [],
      "source": [
        "# Brute force examples\n",
        "time200k = speed_test(200_000)\n",
        "time2m = speed_test(2_000_000)\n",
        "time20m = speed_test(20_000_000)\n",
        "time200m = speed_test(200_000_000)"
      ]
    },
    {
      "cell_type": "markdown",
      "id": "1760c511-c422-42dc-a41c-b125623a8619",
      "metadata": {
        "id": "1760c511-c422-42dc-a41c-b125623a8619"
      },
      "source": [
        "## Brute force kNN implemented by hand on `768` dimensional embeddings"
      ]
    },
    {
      "cell_type": "code",
      "execution_count": null,
      "id": "d140b5d1-e110-4a42-9e3c-00beab03694d",
      "metadata": {
        "height": 164,
        "id": "d140b5d1-e110-4a42-9e3c-00beab03694d"
      },
      "outputs": [],
      "source": [
        "documents = 1000\n",
        "dimensions = 768\n",
        "\n",
        "embeddings = np.random.randn(documents, dimensions) # 1000 documents, 768-dimensional embeddings\n",
        "embeddings = embeddings / np.sqrt((embeddings**2).sum(1, keepdims=True)) # L2 normalize the rows, as is common\n",
        "\n",
        "query = np.random.randn(768) # the query vector\n",
        "query = query / np.sqrt((query**2).sum()) # normalize query"
      ]
    },
    {
      "cell_type": "code",
      "execution_count": null,
      "id": "e8cfca36-3b4e-4103-bae1-98939b48c78c",
      "metadata": {
        "height": 266,
        "id": "e8cfca36-3b4e-4103-bae1-98939b48c78c"
      },
      "outputs": [],
      "source": [
        "# kNN\n",
        "t0 = time.time()\n",
        "# Calculate Dot Product between the query and all data items\n",
        "similarities = embeddings.dot(query)\n",
        "# Sort results\n",
        "sorted_ix = np.argsort(-similarities)\n",
        "t1 = time.time()\n",
        "\n",
        "total = t1-t0\n",
        "print(f\"Runtime for dim={dimensions}, documents_n={documents}: {np.round(total,3)} seconds\")\n",
        "\n",
        "print(\"Top 5 results:\")\n",
        "for k in sorted_ix[:5]:\n",
        "    print(f\"Point: {k}, Similarity: {similarities[k]}\")"
      ]
    },
    {
      "cell_type": "code",
      "execution_count": null,
      "id": "51493604-ca06-4129-a026-007b6ecbb478",
      "metadata": {
        "height": 249,
        "id": "51493604-ca06-4129-a026-007b6ecbb478"
      },
      "outputs": [],
      "source": [
        "n_runs = [1_000, 10_000, 100_000, 500_000]\n",
        "\n",
        "for n in n_runs:\n",
        "    embeddings = np.random.randn(n, dimensions) #768-dimensional embeddings\n",
        "    query = np.random.randn(768) # the query vector\n",
        "\n",
        "    t0 = time.time()\n",
        "    similarities = embeddings.dot(query)\n",
        "    sorted_ix = np.argsort(-similarities)\n",
        "    t1 = time.time()\n",
        "\n",
        "    total = t1-t0\n",
        "    print(f\"Runtime for 1 query with dim={dimensions}, documents_n={n}: {np.round(total,3)} seconds\")"
      ]
    },
    {
      "cell_type": "code",
      "execution_count": null,
      "id": "9748863e-5640-42c4-8223-3d0897867c58",
      "metadata": {
        "height": 45,
        "id": "9748863e-5640-42c4-8223-3d0897867c58"
      },
      "outputs": [],
      "source": [
        "print (f\"To run 1,000 queries: {total * 1_000/60 : .2f} minutes\")"
      ]
    }
  ],
  "metadata": {
    "kernelspec": {
      "display_name": "Python 3 (ipykernel)",
      "language": "python",
      "name": "python3"
    },
    "language_info": {
      "codemirror_mode": {
        "name": "ipython",
        "version": 3
      },
      "file_extension": ".py",
      "mimetype": "text/x-python",
      "name": "python",
      "nbconvert_exporter": "python",
      "pygments_lexer": "ipython3",
      "version": "3.9.18"
    },
    "colab": {
      "provenance": [],
      "include_colab_link": true
    }
  },
  "nbformat": 4,
  "nbformat_minor": 5
}